{
 "cells": [
  {
   "cell_type": "code",
   "execution_count": 4,
   "metadata": {},
   "outputs": [
    {
     "data": {
      "text/html": [
       "<table class=\"data-frame\"><thead><tr><th></th><th>PassengerId</th><th>Survived</th><th>Pclass</th><th>Name</th><th>Sex</th><th>Age</th><th>SibSp</th><th>Parch</th><th>Ticket</th><th>Fare</th><th>Cabin</th><th>Embarked</th></tr><tr><th></th><th>Int64⍰</th><th>Int64⍰</th><th>Int64⍰</th><th>String⍰</th><th>String⍰</th><th>Float64⍰</th><th>Int64⍰</th><th>Int64⍰</th><th>String⍰</th><th>Float64⍰</th><th>String⍰</th><th>String⍰</th></tr></thead><tbody><p>7 rows × 12 columns</p><tr><th>1</th><td>1</td><td>0</td><td>3</td><td>Braund, Mr. Owen Harris</td><td>male</td><td>22.0</td><td>1</td><td>0</td><td>A/5 21171</td><td>7.25</td><td>missing</td><td>S</td></tr><tr><th>2</th><td>2</td><td>1</td><td>1</td><td>Cumings, Mrs. John Bradley (Florence Briggs Thayer)</td><td>female</td><td>38.0</td><td>1</td><td>0</td><td>PC 17599</td><td>71.2833</td><td>C85</td><td>C</td></tr><tr><th>3</th><td>3</td><td>1</td><td>3</td><td>Heikkinen, Miss. Laina</td><td>female</td><td>26.0</td><td>0</td><td>0</td><td>STON/O2. 3101282</td><td>7.925</td><td>missing</td><td>S</td></tr><tr><th>4</th><td>4</td><td>1</td><td>1</td><td>Futrelle, Mrs. Jacques Heath (Lily May Peel)</td><td>female</td><td>35.0</td><td>1</td><td>0</td><td>113803</td><td>53.1</td><td>C123</td><td>S</td></tr><tr><th>5</th><td>5</td><td>0</td><td>3</td><td>Allen, Mr. William Henry</td><td>male</td><td>35.0</td><td>0</td><td>0</td><td>373450</td><td>8.05</td><td>missing</td><td>S</td></tr><tr><th>6</th><td>6</td><td>0</td><td>3</td><td>Moran, Mr. James</td><td>male</td><td>missing</td><td>0</td><td>0</td><td>330877</td><td>8.4583</td><td>missing</td><td>Q</td></tr><tr><th>7</th><td>7</td><td>0</td><td>1</td><td>McCarthy, Mr. Timothy J</td><td>male</td><td>54.0</td><td>0</td><td>0</td><td>17463</td><td>51.8625</td><td>E46</td><td>S</td></tr></tbody></table>"
      ],
      "text/latex": [
       "\\begin{tabular}{r|cccccccccccc}\n",
       "\t& PassengerId & Survived & Pclass & Name & Sex & Age & SibSp & Parch & Ticket & Fare & Cabin & Embarked\\\\\n",
       "\t\\hline\n",
       "\t& Int64⍰ & Int64⍰ & Int64⍰ & String⍰ & String⍰ & Float64⍰ & Int64⍰ & Int64⍰ & String⍰ & Float64⍰ & String⍰ & String⍰\\\\\n",
       "\t\\hline\n",
       "\t1 & 1 & 0 & 3 & Braund, Mr. Owen Harris & male & 22.0 & 1 & 0 & A/5 21171 & 7.25 &  & S \\\\\n",
       "\t2 & 2 & 1 & 1 & Cumings, Mrs. John Bradley (Florence Briggs Thayer) & female & 38.0 & 1 & 0 & PC 17599 & 71.2833 & C85 & C \\\\\n",
       "\t3 & 3 & 1 & 3 & Heikkinen, Miss. Laina & female & 26.0 & 0 & 0 & STON/O2. 3101282 & 7.925 &  & S \\\\\n",
       "\t4 & 4 & 1 & 1 & Futrelle, Mrs. Jacques Heath (Lily May Peel) & female & 35.0 & 1 & 0 & 113803 & 53.1 & C123 & S \\\\\n",
       "\t5 & 5 & 0 & 3 & Allen, Mr. William Henry & male & 35.0 & 0 & 0 & 373450 & 8.05 &  & S \\\\\n",
       "\t6 & 6 & 0 & 3 & Moran, Mr. James & male &  & 0 & 0 & 330877 & 8.4583 &  & Q \\\\\n",
       "\t7 & 7 & 0 & 1 & McCarthy, Mr. Timothy J & male & 54.0 & 0 & 0 & 17463 & 51.8625 & E46 & S \\\\\n",
       "\\end{tabular}\n"
      ],
      "text/plain": [
       "7×12 DataFrame. Omitted printing of 9 columns\n",
       "│ Row │ PassengerId │ Survived │ Pclass │\n",
       "│     │ \u001b[90mInt64⍰\u001b[39m      │ \u001b[90mInt64⍰\u001b[39m   │ \u001b[90mInt64⍰\u001b[39m │\n",
       "├─────┼─────────────┼──────────┼────────┤\n",
       "│ 1   │ 1           │ 0        │ 3      │\n",
       "│ 2   │ 2           │ 1        │ 1      │\n",
       "│ 3   │ 3           │ 1        │ 3      │\n",
       "│ 4   │ 4           │ 1        │ 1      │\n",
       "│ 5   │ 5           │ 0        │ 3      │\n",
       "│ 6   │ 6           │ 0        │ 3      │\n",
       "│ 7   │ 7           │ 0        │ 1      │"
      ]
     },
     "execution_count": 4,
     "metadata": {},
     "output_type": "execute_result"
    }
   ],
   "source": [
    "using DataFrames\n",
    "using CSV\n",
    "\n",
    "train = CSV.read(\"C:/Users/Shobha/Documents/Titanic/v1/data/train.csv\")\n",
    "test = CSV.read(\"C:/Users/Shobha/Documents/Titanic/v1/data/test.csv\")\n",
    "first(train,7)"
   ]
  },
  {
   "cell_type": "code",
   "execution_count": 5,
   "metadata": {},
   "outputs": [
    {
     "name": "stdout",
     "output_type": "stream",
     "text": [
      "\u001b[32m\u001b[1m  Updating\u001b[22m\u001b[39m registry at `C:\\Users\\Shobha\\.julia\\registries\\General`\n",
      "\u001b[32m\u001b[1m  Updating\u001b[22m\u001b[39m git-repo `https://github.com/JuliaRegistries/General.git`\n",
      "\u001b[2K\u001b[?25h[1mFetching:\u001b[22m\u001b[39m [========================================>]  100.0 %.0 %\u001b[36m\u001b[1mFetching:\u001b[22m\u001b[39m [==>                                      ]  3.1 %]  8.7 %18.6 %\u001b[36m\u001b[1mFetching:\u001b[22m\u001b[39m [===========>                             ]  25.4 %32.5 %\u001b[36m\u001b[1mFetching:\u001b[22m\u001b[39m [================>                        ]  37.7 % [=======================>                 ]  56.9 %\u001b[36m\u001b[1mFetching:\u001b[22m\u001b[39m [========================>                ]  59.4 % [============================>            ]  69.6 % [==================================>      ]  84.4 %===================================>     ]  87.0 %93.0 %\u001b[36m\u001b[1mFetching:\u001b[22m\u001b[39m [========================================>]  97.8 %\u001b[32m\u001b[1m Resolving\u001b[22m\u001b[39m package versions...\n",
      "\u001b[32m\u001b[1m Installed\u001b[22m\u001b[39m DoubleFloats ─ v0.7.6\n",
      "\u001b[32m\u001b[1m  Updating\u001b[22m\u001b[39m `C:\\Users\\Shobha\\.julia\\environments\\v1.0\\Project.toml`\n",
      "\u001b[90m [no changes]\u001b[39m\n",
      "\u001b[32m\u001b[1m  Updating\u001b[22m\u001b[39m `C:\\Users\\Shobha\\.julia\\environments\\v1.0\\Manifest.toml`\n",
      " \u001b[90m [497a8b3b]\u001b[39m\u001b[93m ↑ DoubleFloats v0.7.5 ⇒ v0.7.6\u001b[39m\n"
     ]
    }
   ],
   "source": [
    "using Pkg\n",
    "Pkg.add(\"StatsBase\")\n",
    "using StatsBase;\n"
   ]
  },
  {
   "cell_type": "code",
   "execution_count": 7,
   "metadata": {},
   "outputs": [
    {
     "data": {
      "text/plain": [
       "(891, 12)"
      ]
     },
     "execution_count": 7,
     "metadata": {},
     "output_type": "execute_result"
    }
   ],
   "source": [
    "size(train)"
   ]
  },
  {
   "cell_type": "code",
   "execution_count": 9,
   "metadata": {},
   "outputs": [
    {
     "data": {
      "text/html": [
       "<table class=\"data-frame\"><thead><tr><th></th><th>variable</th><th>mean</th><th>min</th><th>median</th><th>max</th><th>nunique</th><th>nmissing</th><th>eltype</th></tr><tr><th></th><th>Symbol</th><th>Union…</th><th>Any</th><th>Union…</th><th>Any</th><th>Union…</th><th>Int64</th><th>DataType</th></tr></thead><tbody><p>12 rows × 8 columns</p><tr><th>1</th><td>PassengerId</td><td>446.0</td><td>1</td><td>446.0</td><td>891</td><td></td><td>0</td><td>Int64</td></tr><tr><th>2</th><td>Survived</td><td>0.383838</td><td>0</td><td>0.0</td><td>1</td><td></td><td>0</td><td>Int64</td></tr><tr><th>3</th><td>Pclass</td><td>2.30864</td><td>1</td><td>3.0</td><td>3</td><td></td><td>0</td><td>Int64</td></tr><tr><th>4</th><td>Name</td><td></td><td>Abbing, Mr. Anthony</td><td></td><td>van Melkebeke, Mr. Philemon</td><td>891</td><td>0</td><td>String</td></tr><tr><th>5</th><td>Sex</td><td></td><td>female</td><td></td><td>male</td><td>2</td><td>0</td><td>String</td></tr><tr><th>6</th><td>Age</td><td>29.6991</td><td>0.42</td><td>28.0</td><td>80.0</td><td></td><td>177</td><td>Float64</td></tr><tr><th>7</th><td>SibSp</td><td>0.523008</td><td>0</td><td>0.0</td><td>8</td><td></td><td>0</td><td>Int64</td></tr><tr><th>8</th><td>Parch</td><td>0.381594</td><td>0</td><td>0.0</td><td>6</td><td></td><td>0</td><td>Int64</td></tr><tr><th>9</th><td>Ticket</td><td></td><td>110152</td><td></td><td>WE/P 5735</td><td>681</td><td>0</td><td>String</td></tr><tr><th>10</th><td>Fare</td><td>32.2042</td><td>0.0</td><td>14.4542</td><td>512.329</td><td></td><td>0</td><td>Float64</td></tr><tr><th>11</th><td>Cabin</td><td></td><td>A10</td><td></td><td>T</td><td>147</td><td>687</td><td>String</td></tr><tr><th>12</th><td>Embarked</td><td></td><td>C</td><td></td><td>S</td><td>3</td><td>2</td><td>String</td></tr></tbody></table>"
      ],
      "text/latex": [
       "\\begin{tabular}{r|cccccccc}\n",
       "\t& variable & mean & min & median & max & nunique & nmissing & eltype\\\\\n",
       "\t\\hline\n",
       "\t& Symbol & Union… & Any & Union… & Any & Union… & Int64 & DataType\\\\\n",
       "\t\\hline\n",
       "\t1 & PassengerId & 446.0 & 1 & 446.0 & 891 &  & 0 & Int64 \\\\\n",
       "\t2 & Survived & 0.383838 & 0 & 0.0 & 1 &  & 0 & Int64 \\\\\n",
       "\t3 & Pclass & 2.30864 & 1 & 3.0 & 3 &  & 0 & Int64 \\\\\n",
       "\t4 & Name &  & Abbing, Mr. Anthony &  & van Melkebeke, Mr. Philemon & 891 & 0 & String \\\\\n",
       "\t5 & Sex &  & female &  & male & 2 & 0 & String \\\\\n",
       "\t6 & Age & 29.6991 & 0.42 & 28.0 & 80.0 &  & 177 & Float64 \\\\\n",
       "\t7 & SibSp & 0.523008 & 0 & 0.0 & 8 &  & 0 & Int64 \\\\\n",
       "\t8 & Parch & 0.381594 & 0 & 0.0 & 6 &  & 0 & Int64 \\\\\n",
       "\t9 & Ticket &  & 110152 &  & WE/P 5735 & 681 & 0 & String \\\\\n",
       "\t10 & Fare & 32.2042 & 0.0 & 14.4542 & 512.329 &  & 0 & Float64 \\\\\n",
       "\t11 & Cabin &  & A10 &  & T & 147 & 687 & String \\\\\n",
       "\t12 & Embarked &  & C &  & S & 3 & 2 & String \\\\\n",
       "\\end{tabular}\n"
      ],
      "text/plain": [
       "12×8 DataFrame. Omitted printing of 4 columns\n",
       "│ Row │ variable    │ mean     │ min                 │ median  │\n",
       "│     │ \u001b[90mSymbol\u001b[39m      │ \u001b[90mUnion…\u001b[39m   │ \u001b[90mAny\u001b[39m                 │ \u001b[90mUnion…\u001b[39m  │\n",
       "├─────┼─────────────┼──────────┼─────────────────────┼─────────┤\n",
       "│ 1   │ PassengerId │ 446.0    │ 1                   │ 446.0   │\n",
       "│ 2   │ Survived    │ 0.383838 │ 0                   │ 0.0     │\n",
       "│ 3   │ Pclass      │ 2.30864  │ 1                   │ 3.0     │\n",
       "│ 4   │ Name        │          │ Abbing, Mr. Anthony │         │\n",
       "│ 5   │ Sex         │          │ female              │         │\n",
       "│ 6   │ Age         │ 29.6991  │ 0.42                │ 28.0    │\n",
       "│ 7   │ SibSp       │ 0.523008 │ 0                   │ 0.0     │\n",
       "│ 8   │ Parch       │ 0.381594 │ 0                   │ 0.0     │\n",
       "│ 9   │ Ticket      │          │ 110152              │         │\n",
       "│ 10  │ Fare        │ 32.2042  │ 0.0                 │ 14.4542 │\n",
       "│ 11  │ Cabin       │          │ A10                 │         │\n",
       "│ 12  │ Embarked    │          │ C                   │         │"
      ]
     },
     "execution_count": 9,
     "metadata": {},
     "output_type": "execute_result"
    }
   ],
   "source": [
    "describe(train)"
   ]
  },
  {
   "cell_type": "code",
   "execution_count": 10,
   "metadata": {},
   "outputs": [
    {
     "data": {
      "text/plain": [
       "Dict{Union{Missing, Float64},Int64} with 89 entries:\n",
       "  70.5    => 1\n",
       "  2.0     => 10\n",
       "  34.5    => 1\n",
       "  11.0    => 4\n",
       "  39.0    => 14\n",
       "  46.0    => 3\n",
       "  25.0    => 23\n",
       "  55.0    => 2\n",
       "  66.0    => 1\n",
       "  42.0    => 13\n",
       "  58.0    => 5\n",
       "  29.0    => 20\n",
       "  59.0    => 2\n",
       "  8.0     => 4\n",
       "  0.67    => 1\n",
       "  74.0    => 1\n",
       "  23.5    => 1\n",
       "  0.83    => 2\n",
       "  57.0    => 2\n",
       "  20.0    => 15\n",
       "  24.5    => 1\n",
       "  14.0    => 6\n",
       "  31.0    => 17\n",
       "  missing => 177\n",
       "  70.0    => 2\n",
       "  ⋮       => ⋮"
      ]
     },
     "execution_count": 10,
     "metadata": {},
     "output_type": "execute_result"
    }
   ],
   "source": [
    "countmap(train[:Age])"
   ]
  },
  {
   "cell_type": "code",
   "execution_count": 11,
   "metadata": {},
   "outputs": [
    {
     "data": {
      "text/plain": [
       "29.69911764705882"
      ]
     },
     "execution_count": 11,
     "metadata": {},
     "output_type": "execute_result"
    }
   ],
   "source": [
    "using Statistics\n",
    "train[ismissing.(train[:Age]),:Age]=mean(train[.!ismissing.(train[:Age]),:Age])\n"
   ]
  },
  {
   "cell_type": "code",
   "execution_count": 12,
   "metadata": {},
   "outputs": [
    {
     "data": {
      "text/plain": [
       "Dict{Union{Missing, Float64},Int64} with 0 entries"
      ]
     },
     "execution_count": 12,
     "metadata": {},
     "output_type": "execute_result"
    }
   ],
   "source": [
    "countmap(train[ismissing.(train[:Age]),:Age])"
   ]
  },
  {
   "cell_type": "code",
   "execution_count": 13,
   "metadata": {},
   "outputs": [
    {
     "data": {
      "text/html": [
       "<table class=\"data-frame\"><thead><tr><th></th><th>PassengerId</th><th>Survived</th><th>Pclass</th><th>Name</th><th>Sex</th><th>Age</th><th>SibSp</th><th>Parch</th><th>Ticket</th><th>Fare</th><th>Cabin</th><th>Embarked</th></tr><tr><th></th><th>Int64⍰</th><th>Int64⍰</th><th>Int64⍰</th><th>String⍰</th><th>String⍰</th><th>Float64⍰</th><th>Int64⍰</th><th>Int64⍰</th><th>String⍰</th><th>Float64⍰</th><th>String⍰</th><th>String⍰</th></tr></thead><tbody><p>22 rows × 12 columns</p><tr><th>1</th><td>34</td><td>0</td><td>2</td><td>Wheadon, Mr. Edward H</td><td>male</td><td>66.0</td><td>0</td><td>0</td><td>C.A. 24579</td><td>10.5</td><td>missing</td><td>S</td></tr><tr><th>2</th><td>55</td><td>0</td><td>1</td><td>Ostby, Mr. Engelhart Cornelius</td><td>male</td><td>65.0</td><td>0</td><td>1</td><td>113509</td><td>61.9792</td><td>B30</td><td>C</td></tr><tr><th>3</th><td>97</td><td>0</td><td>1</td><td>Goldschmidt, Mr. George B</td><td>male</td><td>71.0</td><td>0</td><td>0</td><td>PC 17754</td><td>34.6542</td><td>A5</td><td>C</td></tr><tr><th>4</th><td>117</td><td>0</td><td>3</td><td>Connors, Mr. Patrick</td><td>male</td><td>70.5</td><td>0</td><td>0</td><td>370369</td><td>7.75</td><td>missing</td><td>Q</td></tr><tr><th>5</th><td>171</td><td>0</td><td>1</td><td>Van der hoef, Mr. Wyckoff</td><td>male</td><td>61.0</td><td>0</td><td>0</td><td>111240</td><td>33.5</td><td>B19</td><td>S</td></tr><tr><th>6</th><td>253</td><td>0</td><td>1</td><td>Stead, Mr. William Thomas</td><td>male</td><td>62.0</td><td>0</td><td>0</td><td>113514</td><td>26.55</td><td>C87</td><td>S</td></tr><tr><th>7</th><td>276</td><td>1</td><td>1</td><td>Andrews, Miss. Kornelia Theodosia</td><td>female</td><td>63.0</td><td>1</td><td>0</td><td>13502</td><td>77.9583</td><td>D7</td><td>S</td></tr><tr><th>8</th><td>281</td><td>0</td><td>3</td><td>Duane, Mr. Frank</td><td>male</td><td>65.0</td><td>0</td><td>0</td><td>336439</td><td>7.75</td><td>missing</td><td>Q</td></tr><tr><th>9</th><td>327</td><td>0</td><td>3</td><td>Nysveen, Mr. Johan Hansen</td><td>male</td><td>61.0</td><td>0</td><td>0</td><td>345364</td><td>6.2375</td><td>missing</td><td>S</td></tr><tr><th>10</th><td>439</td><td>0</td><td>1</td><td>Fortune, Mr. Mark</td><td>male</td><td>64.0</td><td>1</td><td>4</td><td>19950</td><td>263.0</td><td>C23 C25 C27</td><td>S</td></tr><tr><th>11</th><td>457</td><td>0</td><td>1</td><td>Millet, Mr. Francis Davis</td><td>male</td><td>65.0</td><td>0</td><td>0</td><td>13509</td><td>26.55</td><td>E38</td><td>S</td></tr><tr><th>12</th><td>484</td><td>1</td><td>3</td><td>Turkula, Mrs. (Hedwig)</td><td>female</td><td>63.0</td><td>0</td><td>0</td><td>4134</td><td>9.5875</td><td>missing</td><td>S</td></tr><tr><th>13</th><td>494</td><td>0</td><td>1</td><td>Artagaveytia, Mr. Ramon</td><td>male</td><td>71.0</td><td>0</td><td>0</td><td>PC 17609</td><td>49.5042</td><td>missing</td><td>C</td></tr><tr><th>14</th><td>546</td><td>0</td><td>1</td><td>Nicholson, Mr. Arthur Ernest</td><td>male</td><td>64.0</td><td>0</td><td>0</td><td>693</td><td>26.0</td><td>missing</td><td>S</td></tr><tr><th>15</th><td>556</td><td>0</td><td>1</td><td>Wright, Mr. George</td><td>male</td><td>62.0</td><td>0</td><td>0</td><td>113807</td><td>26.55</td><td>missing</td><td>S</td></tr><tr><th>16</th><td>571</td><td>1</td><td>2</td><td>Harris, Mr. George</td><td>male</td><td>62.0</td><td>0</td><td>0</td><td>S.W./PP 752</td><td>10.5</td><td>missing</td><td>S</td></tr><tr><th>17</th><td>626</td><td>0</td><td>1</td><td>Sutton, Mr. Frederick</td><td>male</td><td>61.0</td><td>0</td><td>0</td><td>36963</td><td>32.3208</td><td>D50</td><td>S</td></tr><tr><th>18</th><td>631</td><td>1</td><td>1</td><td>Barkworth, Mr. Algernon Henry Wilson</td><td>male</td><td>80.0</td><td>0</td><td>0</td><td>27042</td><td>30.0</td><td>A23</td><td>S</td></tr><tr><th>19</th><td>673</td><td>0</td><td>2</td><td>Mitchell, Mr. Henry Michael</td><td>male</td><td>70.0</td><td>0</td><td>0</td><td>C.A. 24580</td><td>10.5</td><td>missing</td><td>S</td></tr><tr><th>20</th><td>746</td><td>0</td><td>1</td><td>Crosby, Capt. Edward Gifford</td><td>male</td><td>70.0</td><td>1</td><td>1</td><td>WE/P 5735</td><td>71.0</td><td>B22</td><td>S</td></tr><tr><th>21</th><td>830</td><td>1</td><td>1</td><td>Stone, Mrs. George Nelson (Martha Evelyn)</td><td>female</td><td>62.0</td><td>0</td><td>0</td><td>113572</td><td>80.0</td><td>B28</td><td>missing</td></tr><tr><th>22</th><td>852</td><td>0</td><td>3</td><td>Svensson, Mr. Johan</td><td>male</td><td>74.0</td><td>0</td><td>0</td><td>347060</td><td>7.775</td><td>missing</td><td>S</td></tr></tbody></table>"
      ],
      "text/latex": [
       "\\begin{tabular}{r|cccccccccccc}\n",
       "\t& PassengerId & Survived & Pclass & Name & Sex & Age & SibSp & Parch & Ticket & Fare & Cabin & Embarked\\\\\n",
       "\t\\hline\n",
       "\t& Int64⍰ & Int64⍰ & Int64⍰ & String⍰ & String⍰ & Float64⍰ & Int64⍰ & Int64⍰ & String⍰ & Float64⍰ & String⍰ & String⍰\\\\\n",
       "\t\\hline\n",
       "\t1 & 34 & 0 & 2 & Wheadon, Mr. Edward H & male & 66.0 & 0 & 0 & C.A. 24579 & 10.5 &  & S \\\\\n",
       "\t2 & 55 & 0 & 1 & Ostby, Mr. Engelhart Cornelius & male & 65.0 & 0 & 1 & 113509 & 61.9792 & B30 & C \\\\\n",
       "\t3 & 97 & 0 & 1 & Goldschmidt, Mr. George B & male & 71.0 & 0 & 0 & PC 17754 & 34.6542 & A5 & C \\\\\n",
       "\t4 & 117 & 0 & 3 & Connors, Mr. Patrick & male & 70.5 & 0 & 0 & 370369 & 7.75 &  & Q \\\\\n",
       "\t5 & 171 & 0 & 1 & Van der hoef, Mr. Wyckoff & male & 61.0 & 0 & 0 & 111240 & 33.5 & B19 & S \\\\\n",
       "\t6 & 253 & 0 & 1 & Stead, Mr. William Thomas & male & 62.0 & 0 & 0 & 113514 & 26.55 & C87 & S \\\\\n",
       "\t7 & 276 & 1 & 1 & Andrews, Miss. Kornelia Theodosia & female & 63.0 & 1 & 0 & 13502 & 77.9583 & D7 & S \\\\\n",
       "\t8 & 281 & 0 & 3 & Duane, Mr. Frank & male & 65.0 & 0 & 0 & 336439 & 7.75 &  & Q \\\\\n",
       "\t9 & 327 & 0 & 3 & Nysveen, Mr. Johan Hansen & male & 61.0 & 0 & 0 & 345364 & 6.2375 &  & S \\\\\n",
       "\t10 & 439 & 0 & 1 & Fortune, Mr. Mark & male & 64.0 & 1 & 4 & 19950 & 263.0 & C23 C25 C27 & S \\\\\n",
       "\t11 & 457 & 0 & 1 & Millet, Mr. Francis Davis & male & 65.0 & 0 & 0 & 13509 & 26.55 & E38 & S \\\\\n",
       "\t12 & 484 & 1 & 3 & Turkula, Mrs. (Hedwig) & female & 63.0 & 0 & 0 & 4134 & 9.5875 &  & S \\\\\n",
       "\t13 & 494 & 0 & 1 & Artagaveytia, Mr. Ramon & male & 71.0 & 0 & 0 & PC 17609 & 49.5042 &  & C \\\\\n",
       "\t14 & 546 & 0 & 1 & Nicholson, Mr. Arthur Ernest & male & 64.0 & 0 & 0 & 693 & 26.0 &  & S \\\\\n",
       "\t15 & 556 & 0 & 1 & Wright, Mr. George & male & 62.0 & 0 & 0 & 113807 & 26.55 &  & S \\\\\n",
       "\t16 & 571 & 1 & 2 & Harris, Mr. George & male & 62.0 & 0 & 0 & S.W./PP 752 & 10.5 &  & S \\\\\n",
       "\t17 & 626 & 0 & 1 & Sutton, Mr. Frederick & male & 61.0 & 0 & 0 & 36963 & 32.3208 & D50 & S \\\\\n",
       "\t18 & 631 & 1 & 1 & Barkworth, Mr. Algernon Henry Wilson & male & 80.0 & 0 & 0 & 27042 & 30.0 & A23 & S \\\\\n",
       "\t19 & 673 & 0 & 2 & Mitchell, Mr. Henry Michael & male & 70.0 & 0 & 0 & C.A. 24580 & 10.5 &  & S \\\\\n",
       "\t20 & 746 & 0 & 1 & Crosby, Capt. Edward Gifford & male & 70.0 & 1 & 1 & WE/P 5735 & 71.0 & B22 & S \\\\\n",
       "\t21 & 830 & 1 & 1 & Stone, Mrs. George Nelson (Martha Evelyn) & female & 62.0 & 0 & 0 & 113572 & 80.0 & B28 &  \\\\\n",
       "\t22 & 852 & 0 & 3 & Svensson, Mr. Johan & male & 74.0 & 0 & 0 & 347060 & 7.775 &  & S \\\\\n",
       "\\end{tabular}\n"
      ],
      "text/plain": [
       "22×12 DataFrame. Omitted printing of 9 columns\n",
       "│ Row │ PassengerId │ Survived │ Pclass │\n",
       "│     │ \u001b[90mInt64⍰\u001b[39m      │ \u001b[90mInt64⍰\u001b[39m   │ \u001b[90mInt64⍰\u001b[39m │\n",
       "├─────┼─────────────┼──────────┼────────┤\n",
       "│ 1   │ 34          │ 0        │ 2      │\n",
       "│ 2   │ 55          │ 0        │ 1      │\n",
       "│ 3   │ 97          │ 0        │ 1      │\n",
       "│ 4   │ 117         │ 0        │ 3      │\n",
       "│ 5   │ 171         │ 0        │ 1      │\n",
       "│ 6   │ 253         │ 0        │ 1      │\n",
       "│ 7   │ 276         │ 1        │ 1      │\n",
       "│ 8   │ 281         │ 0        │ 3      │\n",
       "│ 9   │ 327         │ 0        │ 3      │\n",
       "│ 10  │ 439         │ 0        │ 1      │\n",
       "│ 11  │ 457         │ 0        │ 1      │\n",
       "│ 12  │ 484         │ 1        │ 3      │\n",
       "│ 13  │ 494         │ 0        │ 1      │\n",
       "│ 14  │ 546         │ 0        │ 1      │\n",
       "│ 15  │ 556         │ 0        │ 1      │\n",
       "│ 16  │ 571         │ 1        │ 2      │\n",
       "│ 17  │ 626         │ 0        │ 1      │\n",
       "│ 18  │ 631         │ 1        │ 1      │\n",
       "│ 19  │ 673         │ 0        │ 2      │\n",
       "│ 20  │ 746         │ 0        │ 1      │\n",
       "│ 21  │ 830         │ 1        │ 1      │\n",
       "│ 22  │ 852         │ 0        │ 3      │"
      ]
     },
     "execution_count": 13,
     "metadata": {},
     "output_type": "execute_result"
    }
   ],
   "source": [
    "train[train[:Age] .> 60,:]"
   ]
  },
  {
   "cell_type": "code",
   "execution_count": 14,
   "metadata": {},
   "outputs": [
    {
     "data": {
      "text/plain": [
       "Dict{Union{Missing, Float64},Int64} with 89 entries:\n",
       "  70.5 => 1\n",
       "  2.0  => 10\n",
       "  34.5 => 1\n",
       "  11.0 => 4\n",
       "  39.0 => 14\n",
       "  46.0 => 3\n",
       "  25.0 => 23\n",
       "  55.0 => 2\n",
       "  66.0 => 1\n",
       "  42.0 => 13\n",
       "  58.0 => 5\n",
       "  29.0 => 20\n",
       "  59.0 => 2\n",
       "  8.0  => 4\n",
       "  0.67 => 1\n",
       "  74.0 => 1\n",
       "  23.5 => 1\n",
       "  0.83 => 2\n",
       "  57.0 => 2\n",
       "  20.0 => 15\n",
       "  24.5 => 1\n",
       "  14.0 => 6\n",
       "  31.0 => 17\n",
       "  70.0 => 2\n",
       "  33.0 => 15\n",
       "  ⋮    => ⋮"
      ]
     },
     "execution_count": 14,
     "metadata": {},
     "output_type": "execute_result"
    }
   ],
   "source": [
    "countmap(train[:Age])"
   ]
  },
  {
   "cell_type": "code",
   "execution_count": 15,
   "metadata": {},
   "outputs": [
    {
     "data": {
      "text/plain": [
       "Dict{Int64,Int64} with 2 entries:\n",
       "  0 => 377\n",
       "  1 => 41"
      ]
     },
     "execution_count": 15,
     "metadata": {},
     "output_type": "execute_result"
    }
   ],
   "source": [
    "train[:Child] = 1\n",
    "train[ismissing.(train[:Age]), :Child] = 1 #this can be avoided. Its just an explicit way to demonstrate the rule\n",
    "train[train[:Age] .< 18, :Child] = 1 #same applies for this, as all Child fields are 1 by default except when Age >= 18\n",
    "train[train[:Age] .>= 18, :Child] = 0\n",
    "test[ismissing.(test[:Age]),:Age]=mean(test[.!ismissing.(test[:Age]),:Age])\n",
    "test[ismissing.(test[:Fare]),:Fare]=mean(test[.!ismissing.(test[:Fare]),:Fare])\n",
    "test[:Child] = 1\n",
    "test[ismissing.(test[:Age]), :Child] = 1 #this can be avoided. Its just an explicit way to demonstrate the rule\n",
    "test[test[:Age] .< 18, :Child] = 1 #same applies for this, as all Child fields are 1 by default except when Age >= 18\n",
    "test[test[:Age] .>= 18, :Child] = 0\n",
    "countmap(test[:Child])"
   ]
  },
  {
   "cell_type": "code",
   "execution_count": 16,
   "metadata": {},
   "outputs": [
    {
     "name": "stdout",
     "output_type": "stream",
     "text": [
      "\u001b[32m\u001b[1m Resolving\u001b[22m\u001b[39m package versions...\n",
      "\u001b[32m\u001b[1m  Updating\u001b[22m\u001b[39m `C:\\Users\\Shobha\\.julia\\environments\\v1.0\\Project.toml`\n",
      "\u001b[90m [no changes]\u001b[39m\n",
      "\u001b[32m\u001b[1m  Updating\u001b[22m\u001b[39m `C:\\Users\\Shobha\\.julia\\environments\\v1.0\\Manifest.toml`\n",
      "\u001b[90m [no changes]\u001b[39m\n"
     ]
    }
   ],
   "source": [
    "Pkg.add(\"StatsPlots\")\n",
    "using Plots\n",
    "using StatsPlots"
   ]
  },
  {
   "cell_type": "code",
   "execution_count": 17,
   "metadata": {},
   "outputs": [
    {
     "data": {
      "text/plain": [
       "0"
      ]
     },
     "execution_count": 17,
     "metadata": {},
     "output_type": "execute_result"
    }
   ],
   "source": [
    "gr()\n",
    "train[:Nsex] = 1\n",
    "train[train[:Sex].== \"female\",:Nsex] = 0\n"
   ]
  },
  {
   "cell_type": "code",
   "execution_count": 18,
   "metadata": {},
   "outputs": [
    {
     "data": {
      "image/svg+xml": [
       "<?xml version=\"1.0\" encoding=\"utf-8\"?>\n",
       "<svg xmlns=\"http://www.w3.org/2000/svg\" xmlns:xlink=\"http://www.w3.org/1999/xlink\" width=\"400\" height=\"200\" viewBox=\"0 0 1600 800\">\n",
       "<defs>\n",
       "  <clipPath id=\"clip5000\">\n",
       "    <rect x=\"0\" y=\"0\" width=\"2000\" height=\"2000\"/>\n",
       "  </clipPath>\n",
       "</defs>\n",
       "<defs>\n",
       "  <clipPath id=\"clip5001\">\n",
       "    <rect x=\"0\" y=\"0\" width=\"1600\" height=\"800\"/>\n",
       "  </clipPath>\n",
       "</defs>\n",
       "<polygon clip-path=\"url(#clip5001)\" points=\"\n",
       "0,800 1600,800 1600,0 0,0 \n",
       "  \" fill=\"#ffffff\" fill-rule=\"evenodd\" fill-opacity=\"1\"/>\n",
       "<defs>\n",
       "  <clipPath id=\"clip5002\">\n",
       "    <rect x=\"320\" y=\"0\" width=\"1121\" height=\"800\"/>\n",
       "  </clipPath>\n",
       "</defs>\n",
       "<polygon clip-path=\"url(#clip5001)\" points=\"\n",
       "237.767,703.475 1521.26,703.475 1521.26,47.2441 237.767,47.2441 \n",
       "  \" fill=\"#ffffff\" fill-rule=\"evenodd\" fill-opacity=\"1\"/>\n",
       "<defs>\n",
       "  <clipPath id=\"clip5003\">\n",
       "    <rect x=\"237\" y=\"47\" width=\"1284\" height=\"657\"/>\n",
       "  </clipPath>\n",
       "</defs>\n",
       "<polyline clip-path=\"url(#clip5003)\" style=\"stroke:#000000; stroke-width:2; stroke-opacity:0.1; fill:none\" points=\"\n",
       "  308.362,703.475 308.362,47.2441 \n",
       "  \"/>\n",
       "<polyline clip-path=\"url(#clip5003)\" style=\"stroke:#000000; stroke-width:2; stroke-opacity:0.1; fill:none\" points=\"\n",
       "  689.13,703.475 689.13,47.2441 \n",
       "  \"/>\n",
       "<polyline clip-path=\"url(#clip5003)\" style=\"stroke:#000000; stroke-width:2; stroke-opacity:0.1; fill:none\" points=\"\n",
       "  1069.9,703.475 1069.9,47.2441 \n",
       "  \"/>\n",
       "<polyline clip-path=\"url(#clip5003)\" style=\"stroke:#000000; stroke-width:2; stroke-opacity:0.1; fill:none\" points=\"\n",
       "  1450.67,703.475 1450.67,47.2441 \n",
       "  \"/>\n",
       "<polyline clip-path=\"url(#clip5003)\" style=\"stroke:#000000; stroke-width:2; stroke-opacity:0.1; fill:none\" points=\"\n",
       "  237.767,684.902 1521.26,684.902 \n",
       "  \"/>\n",
       "<polyline clip-path=\"url(#clip5003)\" style=\"stroke:#000000; stroke-width:2; stroke-opacity:0.1; fill:none\" points=\"\n",
       "  237.767,552.619 1521.26,552.619 \n",
       "  \"/>\n",
       "<polyline clip-path=\"url(#clip5003)\" style=\"stroke:#000000; stroke-width:2; stroke-opacity:0.1; fill:none\" points=\"\n",
       "  237.767,420.336 1521.26,420.336 \n",
       "  \"/>\n",
       "<polyline clip-path=\"url(#clip5003)\" style=\"stroke:#000000; stroke-width:2; stroke-opacity:0.1; fill:none\" points=\"\n",
       "  237.767,288.052 1521.26,288.052 \n",
       "  \"/>\n",
       "<polyline clip-path=\"url(#clip5003)\" style=\"stroke:#000000; stroke-width:2; stroke-opacity:0.1; fill:none\" points=\"\n",
       "  237.767,155.769 1521.26,155.769 \n",
       "  \"/>\n",
       "<polyline clip-path=\"url(#clip5001)\" style=\"stroke:#000000; stroke-width:4; stroke-opacity:1; fill:none\" points=\"\n",
       "  237.767,703.475 1521.26,703.475 \n",
       "  \"/>\n",
       "<polyline clip-path=\"url(#clip5001)\" style=\"stroke:#000000; stroke-width:4; stroke-opacity:1; fill:none\" points=\"\n",
       "  237.767,703.475 237.767,47.2441 \n",
       "  \"/>\n",
       "<polyline clip-path=\"url(#clip5001)\" style=\"stroke:#000000; stroke-width:4; stroke-opacity:1; fill:none\" points=\"\n",
       "  308.362,703.475 308.362,693.631 \n",
       "  \"/>\n",
       "<polyline clip-path=\"url(#clip5001)\" style=\"stroke:#000000; stroke-width:4; stroke-opacity:1; fill:none\" points=\"\n",
       "  689.13,703.475 689.13,693.631 \n",
       "  \"/>\n",
       "<polyline clip-path=\"url(#clip5001)\" style=\"stroke:#000000; stroke-width:4; stroke-opacity:1; fill:none\" points=\"\n",
       "  1069.9,703.475 1069.9,693.631 \n",
       "  \"/>\n",
       "<polyline clip-path=\"url(#clip5001)\" style=\"stroke:#000000; stroke-width:4; stroke-opacity:1; fill:none\" points=\"\n",
       "  1450.67,703.475 1450.67,693.631 \n",
       "  \"/>\n",
       "<polyline clip-path=\"url(#clip5001)\" style=\"stroke:#000000; stroke-width:4; stroke-opacity:1; fill:none\" points=\"\n",
       "  237.767,684.902 257.02,684.902 \n",
       "  \"/>\n",
       "<polyline clip-path=\"url(#clip5001)\" style=\"stroke:#000000; stroke-width:4; stroke-opacity:1; fill:none\" points=\"\n",
       "  237.767,552.619 257.02,552.619 \n",
       "  \"/>\n",
       "<polyline clip-path=\"url(#clip5001)\" style=\"stroke:#000000; stroke-width:4; stroke-opacity:1; fill:none\" points=\"\n",
       "  237.767,420.336 257.02,420.336 \n",
       "  \"/>\n",
       "<polyline clip-path=\"url(#clip5001)\" style=\"stroke:#000000; stroke-width:4; stroke-opacity:1; fill:none\" points=\"\n",
       "  237.767,288.052 257.02,288.052 \n",
       "  \"/>\n",
       "<polyline clip-path=\"url(#clip5001)\" style=\"stroke:#000000; stroke-width:4; stroke-opacity:1; fill:none\" points=\"\n",
       "  237.767,155.769 257.02,155.769 \n",
       "  \"/>\n",
       "<g clip-path=\"url(#clip5001)\">\n",
       "<text style=\"fill:#000000; fill-opacity:1; font-family:Arial,Helvetica Neue,Helvetica,sans-serif; font-size:48px; text-anchor:middle;\" transform=\"rotate(0, 308.362, 753.475)\" x=\"308.362\" y=\"753.475\">0.0</text>\n",
       "</g>\n",
       "<g clip-path=\"url(#clip5001)\">\n",
       "<text style=\"fill:#000000; fill-opacity:1; font-family:Arial,Helvetica Neue,Helvetica,sans-serif; font-size:48px; text-anchor:middle;\" transform=\"rotate(0, 689.13, 753.475)\" x=\"689.13\" y=\"753.475\">0.5</text>\n",
       "</g>\n",
       "<g clip-path=\"url(#clip5001)\">\n",
       "<text style=\"fill:#000000; fill-opacity:1; font-family:Arial,Helvetica Neue,Helvetica,sans-serif; font-size:48px; text-anchor:middle;\" transform=\"rotate(0, 1069.9, 753.475)\" x=\"1069.9\" y=\"753.475\">1.0</text>\n",
       "</g>\n",
       "<g clip-path=\"url(#clip5001)\">\n",
       "<text style=\"fill:#000000; fill-opacity:1; font-family:Arial,Helvetica Neue,Helvetica,sans-serif; font-size:48px; text-anchor:middle;\" transform=\"rotate(0, 1450.67, 753.475)\" x=\"1450.67\" y=\"753.475\">1.5</text>\n",
       "</g>\n",
       "<g clip-path=\"url(#clip5001)\">\n",
       "<text style=\"fill:#000000; fill-opacity:1; font-family:Arial,Helvetica Neue,Helvetica,sans-serif; font-size:48px; text-anchor:end;\" transform=\"rotate(0, 221.767, 702.402)\" x=\"221.767\" y=\"702.402\">0</text>\n",
       "</g>\n",
       "<g clip-path=\"url(#clip5001)\">\n",
       "<text style=\"fill:#000000; fill-opacity:1; font-family:Arial,Helvetica Neue,Helvetica,sans-serif; font-size:48px; text-anchor:end;\" transform=\"rotate(0, 221.767, 570.119)\" x=\"221.767\" y=\"570.119\">100</text>\n",
       "</g>\n",
       "<g clip-path=\"url(#clip5001)\">\n",
       "<text style=\"fill:#000000; fill-opacity:1; font-family:Arial,Helvetica Neue,Helvetica,sans-serif; font-size:48px; text-anchor:end;\" transform=\"rotate(0, 221.767, 437.836)\" x=\"221.767\" y=\"437.836\">200</text>\n",
       "</g>\n",
       "<g clip-path=\"url(#clip5001)\">\n",
       "<text style=\"fill:#000000; fill-opacity:1; font-family:Arial,Helvetica Neue,Helvetica,sans-serif; font-size:48px; text-anchor:end;\" transform=\"rotate(0, 221.767, 305.552)\" x=\"221.767\" y=\"305.552\">300</text>\n",
       "</g>\n",
       "<g clip-path=\"url(#clip5001)\">\n",
       "<text style=\"fill:#000000; fill-opacity:1; font-family:Arial,Helvetica Neue,Helvetica,sans-serif; font-size:48px; text-anchor:end;\" transform=\"rotate(0, 221.767, 173.269)\" x=\"221.767\" y=\"173.269\">400</text>\n",
       "</g>\n",
       "<g clip-path=\"url(#clip5001)\">\n",
       "<text style=\"fill:#000000; fill-opacity:1; font-family:Arial,Helvetica Neue,Helvetica,sans-serif; font-size:66px; text-anchor:middle;\" transform=\"rotate(-90, 57.6, 375.359)\" x=\"57.6\" y=\"375.359\">Survived</text>\n",
       "</g>\n",
       "<polygon clip-path=\"url(#clip5003)\" points=\"\n",
       "308.362,577.753 308.362,684.902 689.13,684.902 689.13,577.753 308.362,577.753 308.362,577.753 \n",
       "  \" fill=\"#009af9\" fill-rule=\"evenodd\" fill-opacity=\"1\"/>\n",
       "<polyline clip-path=\"url(#clip5003)\" style=\"stroke:#000000; stroke-width:4; stroke-opacity:1; fill:none\" points=\"\n",
       "  308.362,577.753 308.362,684.902 689.13,684.902 689.13,577.753 308.362,577.753 \n",
       "  \"/>\n",
       "<polygon clip-path=\"url(#clip5003)\" points=\"\n",
       "689.13,684.902 689.13,684.902 1069.9,684.902 1069.9,684.902 689.13,684.902 689.13,684.902 \n",
       "  \" fill=\"#009af9\" fill-rule=\"evenodd\" fill-opacity=\"1\"/>\n",
       "<polyline clip-path=\"url(#clip5003)\" style=\"stroke:#000000; stroke-width:4; stroke-opacity:1; fill:none\" points=\"\n",
       "  689.13,684.902 689.13,684.902 1069.9,684.902 689.13,684.902 \n",
       "  \"/>\n",
       "<polygon clip-path=\"url(#clip5003)\" points=\"\n",
       "1069.9,376.682 1069.9,684.902 1450.67,684.902 1450.67,376.682 1069.9,376.682 1069.9,376.682 \n",
       "  \" fill=\"#009af9\" fill-rule=\"evenodd\" fill-opacity=\"1\"/>\n",
       "<polyline clip-path=\"url(#clip5003)\" style=\"stroke:#000000; stroke-width:4; stroke-opacity:1; fill:none\" points=\"\n",
       "  1069.9,376.682 1069.9,684.902 1450.67,684.902 1450.67,376.682 1069.9,376.682 \n",
       "  \"/>\n",
       "<polygon clip-path=\"url(#clip5003)\" points=\"\n",
       "308.362,65.8167 308.362,684.902 689.13,684.902 689.13,65.8167 308.362,65.8167 308.362,65.8167 \n",
       "  \" fill=\"#e26f46\" fill-rule=\"evenodd\" fill-opacity=\"1\"/>\n",
       "<polyline clip-path=\"url(#clip5003)\" style=\"stroke:#000000; stroke-width:4; stroke-opacity:1; fill:none\" points=\"\n",
       "  308.362,65.8167 308.362,684.902 689.13,684.902 689.13,65.8167 308.362,65.8167 \n",
       "  \"/>\n",
       "<polygon clip-path=\"url(#clip5003)\" points=\"\n",
       "689.13,684.902 689.13,684.902 1069.9,684.902 1069.9,684.902 689.13,684.902 689.13,684.902 \n",
       "  \" fill=\"#e26f46\" fill-rule=\"evenodd\" fill-opacity=\"1\"/>\n",
       "<polyline clip-path=\"url(#clip5003)\" style=\"stroke:#000000; stroke-width:4; stroke-opacity:1; fill:none\" points=\"\n",
       "  689.13,684.902 689.13,684.902 1069.9,684.902 689.13,684.902 \n",
       "  \"/>\n",
       "<polygon clip-path=\"url(#clip5003)\" points=\"\n",
       "1069.9,540.713 1069.9,684.902 1450.67,684.902 1450.67,540.713 1069.9,540.713 1069.9,540.713 \n",
       "  \" fill=\"#e26f46\" fill-rule=\"evenodd\" fill-opacity=\"1\"/>\n",
       "<polyline clip-path=\"url(#clip5003)\" style=\"stroke:#000000; stroke-width:4; stroke-opacity:1; fill:none\" points=\"\n",
       "  1069.9,540.713 1069.9,684.902 1450.67,684.902 1450.67,540.713 1069.9,540.713 \n",
       "  \"/>\n",
       "<polygon clip-path=\"url(#clip5001)\" points=\"\n",
       "1168.81,264.204 1473.26,264.204 1473.26,82.7641 1168.81,82.7641 \n",
       "  \" fill=\"#ffffff\" fill-rule=\"evenodd\" fill-opacity=\"1\"/>\n",
       "<polyline clip-path=\"url(#clip5001)\" style=\"stroke:#000000; stroke-width:4; stroke-opacity:1; fill:none\" points=\"\n",
       "  1168.81,264.204 1473.26,264.204 1473.26,82.7641 1168.81,82.7641 1168.81,264.204 \n",
       "  \"/>\n",
       "<polygon clip-path=\"url(#clip5001)\" points=\"\n",
       "1184.81,167.436 1280.81,167.436 1280.81,119.052 1184.81,119.052 1184.81,167.436 \n",
       "  \" fill=\"#009af9\" fill-rule=\"evenodd\" fill-opacity=\"1\"/>\n",
       "<polyline clip-path=\"url(#clip5001)\" style=\"stroke:#000000; stroke-width:4; stroke-opacity:1; fill:none\" points=\"\n",
       "  1184.81,167.436 1280.81,167.436 1280.81,119.052 1184.81,119.052 1184.81,167.436 \n",
       "  \"/>\n",
       "<g clip-path=\"url(#clip5001)\">\n",
       "<text style=\"fill:#000000; fill-opacity:1; font-family:Arial,Helvetica Neue,Helvetica,sans-serif; font-size:48px; text-anchor:start;\" transform=\"rotate(0, 1296.81, 160.744)\" x=\"1296.81\" y=\"160.744\">female</text>\n",
       "</g>\n",
       "<polygon clip-path=\"url(#clip5001)\" points=\"\n",
       "1184.81,227.916 1280.81,227.916 1280.81,179.532 1184.81,179.532 1184.81,227.916 \n",
       "  \" fill=\"#e26f46\" fill-rule=\"evenodd\" fill-opacity=\"1\"/>\n",
       "<polyline clip-path=\"url(#clip5001)\" style=\"stroke:#000000; stroke-width:4; stroke-opacity:1; fill:none\" points=\"\n",
       "  1184.81,227.916 1280.81,227.916 1280.81,179.532 1184.81,179.532 1184.81,227.916 \n",
       "  \"/>\n",
       "<g clip-path=\"url(#clip5001)\">\n",
       "<text style=\"fill:#000000; fill-opacity:1; font-family:Arial,Helvetica Neue,Helvetica,sans-serif; font-size:48px; text-anchor:start;\" transform=\"rotate(0, 1296.81, 221.224)\" x=\"1296.81\" y=\"221.224\">male</text>\n",
       "</g>\n",
       "</svg>\n"
      ]
     },
     "execution_count": 18,
     "metadata": {},
     "output_type": "execute_result"
    }
   ],
   "source": [
    "\n",
    "@df train histogram(:Survived ,ylabel =\"Survived\",size = (400,200),group =:Sex,bins = 2)\n"
   ]
  },
  {
   "cell_type": "code",
   "execution_count": 19,
   "metadata": {},
   "outputs": [
    {
     "data": {
      "text/plain": [
       "\"S\""
      ]
     },
     "execution_count": 19,
     "metadata": {},
     "output_type": "execute_result"
    }
   ],
   "source": [
    "countmap(train[:Embarked])\n",
    "train[ismissing.(train[:Embarked]), :Embarked] = \"S\"\n",
    "test[ismissing.(test[:Embarked]), :Embarked] = \"S\""
   ]
  },
  {
   "cell_type": "code",
   "execution_count": 20,
   "metadata": {},
   "outputs": [
    {
     "data": {
      "text/plain": [
       "Dict{Union{Missing, String},Int64} with 3 entries:\n",
       "  \"Q\" => 77\n",
       "  \"S\" => 646\n",
       "  \"C\" => 168"
      ]
     },
     "execution_count": 20,
     "metadata": {},
     "output_type": "execute_result"
    }
   ],
   "source": [
    "countmap(train[:Embarked])"
   ]
  },
  {
   "cell_type": "code",
   "execution_count": 21,
   "metadata": {},
   "outputs": [
    {
     "name": "stdout",
     "output_type": "stream",
     "text": [
      "\u001b[32m\u001b[1m Resolving\u001b[22m\u001b[39m package versions...\n",
      "\u001b[32m\u001b[1m  Updating\u001b[22m\u001b[39m `C:\\Users\\Shobha\\.julia\\environments\\v1.0\\Project.toml`\n",
      "\u001b[90m [no changes]\u001b[39m\n",
      "\u001b[32m\u001b[1m  Updating\u001b[22m\u001b[39m `C:\\Users\\Shobha\\.julia\\environments\\v1.0\\Manifest.toml`\n",
      "\u001b[90m [no changes]\u001b[39m\n"
     ]
    },
    {
     "ename": "KeyError",
     "evalue": "KeyError: key :Survived not found",
     "output_type": "error",
     "traceback": [
      "KeyError: key :Survived not found",
      "",
      "Stacktrace:",
      " [1] getindex at .\\dict.jl:478 [inlined]",
      " [2] getindex at C:\\Users\\Shobha\\.julia\\packages\\DataFrames\\lyCjP\\src\\other\\index.jl:148 [inlined]",
      " [3] getindex(::DataFrame, ::Symbol) at C:\\Users\\Shobha\\.julia\\packages\\DataFrames\\lyCjP\\src\\dataframe\\dataframe.jl:243",
      " [4] top-level scope at In[21]:8"
     ]
    }
   ],
   "source": [
    "Pkg.add(\"DecisionTree\");\n",
    "using DecisionTree\n",
    "\n",
    "features = convert(Matrix,train[:,[:Pclass, :Sex, :Age, :SibSp, :Parch, :Fare, :Embarked, :Child]])\n",
    "test_features = convert(Matrix,test[:,[:Pclass, :Sex, :Age, :SibSp, :Parch, :Fare, :Embarked, :Child]])\n",
    "#labels=Array(train[:Survived])\n",
    "labels = Array{Float32}(train[:Survived])\n",
    "test_labels = Array{Float32}(test[:Survived])"
   ]
  },
  {
   "cell_type": "code",
   "execution_count": 22,
   "metadata": {},
   "outputs": [
    {
     "name": "stdout",
     "output_type": "stream",
     "text": [
      "Feature 2, Threshold male\n",
      "L-> 1.0 : 233/314\n",
      "R-> 0.0 : 468/577\n"
     ]
    }
   ],
   "source": [
    "stump = build_stump(labels, features)\n",
    "print_tree(stump)"
   ]
  },
  {
   "cell_type": "code",
   "execution_count": 23,
   "metadata": {},
   "outputs": [
    {
     "data": {
      "text/plain": [
       "2×2 Array{Int64,2}:\n",
       " 468   81\n",
       " 109  233"
      ]
     },
     "metadata": {},
     "output_type": "display_data"
    },
    {
     "data": {
      "text/plain": [
       "Classes:  Float32[0.0, 1.0]\n",
       "Matrix:   \n",
       "Accuracy: 0.7867564534231201\n",
       "Kappa:    0.5421129503407983"
      ]
     },
     "execution_count": 23,
     "metadata": {},
     "output_type": "execute_result"
    }
   ],
   "source": [
    "predictions = apply_tree(stump, features)\n",
    "confusion_matrix(labels, predictions)"
   ]
  },
  {
   "cell_type": "code",
   "execution_count": 24,
   "metadata": {},
   "outputs": [
    {
     "name": "stdout",
     "output_type": "stream",
     "text": [
      "Feature 2, Threshold male\n",
      "L-> Feature 1, Threshold 2.5\n",
      "    L-> Feature 6, Threshold 28.85625\n",
      "        L-> Feature 6, Threshold 28.23125\n",
      "            L-> Feature 3, Threshold 23.5\n",
      "                L-> 1.0 : 15/15\n",
      "                R-> \n",
      "            R-> 0.0 : 1/1\n",
      "        R-> Feature 3, Threshold 2.5\n",
      "            L-> 0.0 : 1/1\n",
      "            R-> Feature 5, Threshold 1.5\n",
      "                L-> 1.0 : 84/84\n",
      "                R-> \n",
      "    R-> Feature 6, Threshold 23.35\n",
      "        L-> Feature 3, Threshold 36.5\n",
      "            L-> Feature 7, Threshold S\n",
      "                L-> \n",
      "                R-> \n",
      "            R-> Feature 3, Threshold 55.0\n",
      "                L-> 0.0 : 6/6\n",
      "                R-> 1.0 : 1/1\n",
      "        R-> Feature 5, Threshold 0.5\n",
      "            L-> 1.0 : 1/1\n",
      "            R-> Feature 6, Threshold 31.331249999999997\n",
      "                L-> 0.0 : 15/15\n",
      "                R-> \n",
      "R-> Feature 6, Threshold 26.26875\n",
      "    L-> Feature 3, Threshold 13.5\n",
      "        L-> Feature 4, Threshold 2.0\n",
      "            L-> Feature 3, Threshold 10.0\n",
      "                L-> 1.0 : 12/12\n",
      "                R-> \n",
      "            R-> 0.0 : 1/1\n",
      "        R-> Feature 7, Threshold Q\n",
      "            L-> Feature 6, Threshold 15.1479\n",
      "                L-> \n",
      "                R-> \n",
      "            R-> Feature 6, Threshold 13.25\n",
      "                L-> \n",
      "                R-> \n",
      "    R-> Feature 4, Threshold 2.5\n",
      "        L-> Feature 3, Threshold 13.5\n",
      "            L-> 1.0 : 7/7\n",
      "            R-> Feature 6, Threshold 26.46875\n",
      "                L-> 1.0 : 4/4\n",
      "                R-> \n",
      "        R-> Feature 3, Threshold 3.5\n",
      "            L-> Feature 3, Threshold 2.5\n",
      "                L-> 0.0 : 4/4\n",
      "                R-> 1.0 : 1/1\n",
      "            R-> 0.0 : 18/18\n"
     ]
    },
    {
     "data": {
      "text/plain": [
       "205"
      ]
     },
     "execution_count": 24,
     "metadata": {},
     "output_type": "execute_result"
    }
   ],
   "source": [
    "model = build_tree(labels, features)\n",
    "print_tree(model, 5)\n",
    "length(model)"
   ]
  },
  {
   "cell_type": "code",
   "execution_count": 25,
   "metadata": {},
   "outputs": [
    {
     "name": "stdout",
     "output_type": "stream",
     "text": [
      "Feature 2, Threshold male\n",
      "L-> Feature 1, Threshold 2.5\n",
      "    L-> Feature 6, Threshold 28.85625\n",
      "        L-> Feature 6, Threshold 28.23125\n",
      "            L-> Feature 3, Threshold 23.5\n",
      "                L-> 1.0 : 15/15\n",
      "                R-> \n",
      "            R-> 0.0 : 1/1\n",
      "        R-> 1.0 : 98/100\n",
      "    R-> Feature 6, Threshold 23.35\n",
      "        L-> Feature 3, Threshold 36.5\n",
      "            L-> Feature 7, Threshold S\n",
      "                L-> \n",
      "                R-> \n",
      "            R-> 0.0 : 6/7\n",
      "        R-> 0.0 : 24/27\n",
      "R-> Feature 6, Threshold 26.26875\n",
      "    L-> Feature 3, Threshold 13.5\n",
      "        L-> Feature 4, Threshold 2.0\n",
      "            L-> Feature 3, Threshold 10.0\n",
      "                L-> 1.0 : 12/12\n",
      "                R-> \n",
      "            R-> 0.0 : 1/1\n",
      "        R-> Feature 7, Threshold Q\n",
      "            L-> Feature 6, Threshold 15.1479\n",
      "                L-> \n",
      "                R-> \n",
      "            R-> Feature 6, Threshold 13.25\n",
      "                L-> \n",
      "                R-> 0.0 : 62/64\n",
      "    R-> Feature 4, Threshold 2.5\n",
      "        L-> Feature 3, Threshold 13.5\n",
      "            L-> 1.0 : 7/7\n",
      "            R-> Feature 6, Threshold 26.46875\n",
      "                L-> 1.0 : 4/4\n",
      "                R-> \n",
      "        R-> 0.0 : 22/23\n"
     ]
    },
    {
     "data": {
      "text/plain": [
       "160"
      ]
     },
     "execution_count": 25,
     "metadata": {},
     "output_type": "execute_result"
    }
   ],
   "source": [
    "# prune tree: merge leaves having >= 70% combined purity (default: 100%)\n",
    "model = prune_tree(model, 0.7)\n",
    "# pretty print of the tree, to a depth of 5 nodes (optional)\n",
    "print_tree(model, 5)\n",
    "length(model)"
   ]
  },
  {
   "cell_type": "code",
   "execution_count": 26,
   "metadata": {},
   "outputs": [
    {
     "data": {
      "text/plain": [
       "8-element Array{Float64,1}:\n",
       " 0.1                \n",
       " 0.22857142857142856\n",
       " 0.35714285714285715\n",
       " 0.4857142857142857 \n",
       " 0.6142857142857143 \n",
       " 0.7428571428571429 \n",
       " 0.8714285714285714 \n",
       " 1.0                "
      ]
     },
     "execution_count": 26,
     "metadata": {},
     "output_type": "execute_result"
    }
   ],
   "source": [
    "purities = [i for i in range(0.1,stop= 1.0,length= 8)]"
   ]
  },
  {
   "cell_type": "code",
   "execution_count": 27,
   "metadata": {},
   "outputs": [
    {
     "name": "stdout",
     "output_type": "stream",
     "text": [
      "\n",
      "Fold 1\n",
      "Classes:  "
     ]
    },
    {
     "data": {
      "text/plain": [
       "2×2 Array{Int64,2}:\n",
       " 61  0\n",
       " 50  0"
      ]
     },
     "metadata": {},
     "output_type": "display_data"
    },
    {
     "data": {
      "text/plain": [
       "2×2 Array{Int64,2}:\n",
       " 74  0\n",
       " 37  0"
      ]
     },
     "metadata": {},
     "output_type": "display_data"
    },
    {
     "name": "stdout",
     "output_type": "stream",
     "text": [
      "Float32[0.0, 1.0]\n",
      "Matrix:   \n",
      "Accuracy: 0.5495495495495496\n",
      "Kappa:    0.0\n",
      "\n",
      "Fold 2\n",
      "Classes:  Float32[0.0, 1.0]\n",
      "Matrix:   \n",
      "Accuracy: 0.6666666666666666\n",
      "Kappa:    0.0\n"
     ]
    },
    {
     "data": {
      "text/plain": [
       "2×2 Array{Int64,2}:\n",
       " 68  0\n",
       " 43  0"
      ]
     },
     "metadata": {},
     "output_type": "display_data"
    },
    {
     "data": {
      "text/plain": [
       "2×2 Array{Int64,2}:\n",
       " 60  0\n",
       " 51  0"
      ]
     },
     "metadata": {},
     "output_type": "display_data"
    },
    {
     "data": {
      "text/plain": [
       "2×2 Array{Int64,2}:\n",
       " 73  0\n",
       " 38  0"
      ]
     },
     "metadata": {},
     "output_type": "display_data"
    },
    {
     "name": "stdout",
     "output_type": "stream",
     "text": [
      "\n",
      "Fold 3\n",
      "Classes:  Float32[0.0, 1.0]\n",
      "Matrix:   \n",
      "Accuracy: 0.6126126126126126\n",
      "Kappa:    0.0\n",
      "\n",
      "Fold 4\n",
      "Classes:  Float32[0.0, 1.0]\n",
      "Matrix:   \n",
      "Accuracy: 0.5405405405405406\n",
      "Kappa:    0.0\n",
      "\n",
      "Fold 5\n",
      "Classes:  Float32[0.0, 1.0]\n",
      "Matrix:   \n",
      "Accuracy: 0.6576576576576577\n",
      "Kappa:    0.0\n"
     ]
    },
    {
     "data": {
      "text/plain": [
       "2×2 Array{Int64,2}:\n",
       " 75  0\n",
       " 36  0"
      ]
     },
     "metadata": {},
     "output_type": "display_data"
    },
    {
     "data": {
      "text/plain": [
       "2×2 Array{Int64,2}:\n",
       " 69  0\n",
       " 42  0"
      ]
     },
     "metadata": {},
     "output_type": "display_data"
    },
    {
     "data": {
      "text/plain": [
       "2×2 Array{Int64,2}:\n",
       " 67  0\n",
       " 44  0"
      ]
     },
     "metadata": {},
     "output_type": "display_data"
    },
    {
     "name": "stdout",
     "output_type": "stream",
     "text": [
      "\n",
      "Fold 6\n",
      "Classes:  Float32[0.0, 1.0]\n",
      "Matrix:   \n",
      "Accuracy: 0.6756756756756757\n",
      "Kappa:    0.0\n",
      "\n",
      "Fold 7\n",
      "Classes:  Float32[0.0, 1.0]\n",
      "Matrix:   \n",
      "Accuracy: 0.6216216216216216\n",
      "Kappa:    0.0\n",
      "\n",
      "Fold 8\n",
      "Classes:  Float32[0.0, 1.0]\n",
      "Matrix:   \n",
      "Accuracy: 0.6036036036036037\n",
      "Kappa:    0.0\n",
      "\n",
      "Mean Accuracy: 0.6159909909909911\n",
      "\n",
      "Fold 1\n",
      "Classes:  Float32[0.0"
     ]
    },
    {
     "data": {
      "text/plain": [
       "2×2 Array{Int64,2}:\n",
       " 63  0\n",
       " 48  0"
      ]
     },
     "metadata": {},
     "output_type": "display_data"
    },
    {
     "data": {
      "text/plain": [
       "2×2 Array{Int64,2}:\n",
       " 67  0\n",
       " 44  0"
      ]
     },
     "metadata": {},
     "output_type": "display_data"
    },
    {
     "name": "stdout",
     "output_type": "stream",
     "text": [
      ", 1.0]\n",
      "Matrix:   \n",
      "Accuracy: 0.5675675675675675\n",
      "Kappa:    0.0\n",
      "\n",
      "Fold 2\n",
      "Classes:  Float32[0.0, 1.0]\n",
      "Matrix:   \n",
      "Accuracy: 0.6036036036036037"
     ]
    },
    {
     "data": {
      "text/plain": [
       "2×2 Array{Int64,2}:\n",
       " 69  0\n",
       " 42  0"
      ]
     },
     "metadata": {},
     "output_type": "display_data"
    },
    {
     "data": {
      "text/plain": [
       "2×2 Array{Int64,2}:\n",
       " 67  0\n",
       " 44  0"
      ]
     },
     "metadata": {},
     "output_type": "display_data"
    },
    {
     "data": {
      "text/plain": [
       "2×2 Array{Int64,2}:\n",
       " 77  0\n",
       " 34  0"
      ]
     },
     "metadata": {},
     "output_type": "display_data"
    },
    {
     "name": "stdout",
     "output_type": "stream",
     "text": [
      "\n",
      "Kappa:    0.0\n",
      "\n",
      "Fold 3\n",
      "Classes:  Float32[0.0, 1.0]\n",
      "Matrix:   \n",
      "Accuracy: 0.6216216216216216\n",
      "Kappa:    0.0\n",
      "\n",
      "Fold 4\n",
      "Classes:  Float32[0.0, 1.0]\n",
      "Matrix:   \n",
      "Accuracy: 0.6036036036036037\n",
      "Kappa:    0.0\n",
      "\n",
      "Fold 5\n",
      "Classes:  Float32[0.0, 1.0]\n",
      "Matrix:   \n",
      "Accuracy: 0.6936936936936937"
     ]
    },
    {
     "data": {
      "text/plain": [
       "2×2 Array{Int64,2}:\n",
       " 60  0\n",
       " 51  0"
      ]
     },
     "metadata": {},
     "output_type": "display_data"
    },
    {
     "data": {
      "text/plain": [
       "2×2 Array{Int64,2}:\n",
       " 69  0\n",
       " 42  0"
      ]
     },
     "metadata": {},
     "output_type": "display_data"
    },
    {
     "data": {
      "text/plain": [
       "2×2 Array{Int64,2}:\n",
       " 75  0\n",
       " 36  0"
      ]
     },
     "metadata": {},
     "output_type": "display_data"
    },
    {
     "name": "stdout",
     "output_type": "stream",
     "text": [
      "\n",
      "Kappa:    0.0\n",
      "\n",
      "Fold 6\n",
      "Classes:  Float32[0.0, 1.0]\n",
      "Matrix:   \n",
      "Accuracy: 0.5405405405405406\n",
      "Kappa:    0.0\n",
      "\n",
      "Fold 7\n",
      "Classes:  Float32[0.0, 1.0]\n",
      "Matrix:   \n",
      "Accuracy: 0.6216216216216216\n",
      "Kappa:    0.0\n",
      "\n",
      "Fold 8\n",
      "Classes:  Float32[0.0, 1.0]\n",
      "Matrix:   "
     ]
    },
    {
     "data": {
      "text/plain": [
       "2×2 Array{Int64,2}:\n",
       " 74  0\n",
       " 37  0"
      ]
     },
     "metadata": {},
     "output_type": "display_data"
    },
    {
     "data": {
      "text/plain": [
       "2×2 Array{Int64,2}:\n",
       " 72  0\n",
       " 39  0"
      ]
     },
     "metadata": {},
     "output_type": "display_data"
    },
    {
     "data": {
      "text/plain": [
       "2×2 Array{Int64,2}:\n",
       " 68  0\n",
       " 43  0"
      ]
     },
     "metadata": {},
     "output_type": "display_data"
    },
    {
     "name": "stdout",
     "output_type": "stream",
     "text": [
      "\n",
      "Accuracy: 0.6756756756756757\n",
      "Kappa:    0.0\n",
      "\n",
      "Mean Accuracy: 0.615990990990991\n",
      "\n",
      "Fold 1\n",
      "Classes:  Float32[0.0, 1.0]\n",
      "Matrix:   \n",
      "Accuracy: 0.6666666666666666\n",
      "Kappa:    0.0\n",
      "\n",
      "Fold 2\n",
      "Classes:  Float32[0.0, 1.0]\n",
      "Matrix:   \n",
      "Accuracy: 0.6486486486486487\n",
      "Kappa:    0.0\n",
      "\n",
      "Fold 3\n",
      "Classes:  Float32[0.0, 1.0]\n",
      "Matrix:   \n",
      "Accuracy: 0.6126126126126126\n",
      "Kappa:    0.0"
     ]
    },
    {
     "data": {
      "text/plain": [
       "2×2 Array{Int64,2}:\n",
       " 75  0\n",
       " 36  0"
      ]
     },
     "metadata": {},
     "output_type": "display_data"
    },
    {
     "name": "stdout",
     "output_type": "stream",
     "text": [
      "\n",
      "\n",
      "Fold 4\n",
      "Classes:  Float32[0.0, 1.0]\n",
      "Matrix:   \n",
      "Accuracy: 0.6756756756756757\n",
      "Kappa:    0.0\n",
      "\n",
      "Fold 5\n",
      "Classes:  Float32[0.0,"
     ]
    },
    {
     "data": {
      "text/plain": [
       "2×2 Array{Int64,2}:\n",
       " 61  0\n",
       " 50  0"
      ]
     },
     "metadata": {},
     "output_type": "display_data"
    },
    {
     "data": {
      "text/plain": [
       "2×2 Array{Int64,2}:\n",
       " 71  0\n",
       " 40  0"
      ]
     },
     "metadata": {},
     "output_type": "display_data"
    },
    {
     "name": "stdout",
     "output_type": "stream",
     "text": [
      " 1.0]\n",
      "Matrix:   \n",
      "Accuracy: 0.5495495495495496\n",
      "Kappa:    0.0\n",
      "\n",
      "Fold 6\n",
      "Classes:  Float32[0.0, 1.0]\n",
      "Matrix:   \n",
      "Accuracy: 0.6396396396396397\n",
      "Kappa:    0.0\n",
      "\n",
      "Fold 7"
     ]
    },
    {
     "data": {
      "text/plain": [
       "2×2 Array{Int64,2}:\n",
       " 58  0\n",
       " 53  0"
      ]
     },
     "metadata": {},
     "output_type": "display_data"
    },
    {
     "data": {
      "text/plain": [
       "2×2 Array{Int64,2}:\n",
       " 67  0\n",
       " 44  0"
      ]
     },
     "metadata": {},
     "output_type": "display_data"
    },
    {
     "name": "stdout",
     "output_type": "stream",
     "text": [
      "\n",
      "Classes:  Float32[0.0, 1.0]\n",
      "Matrix:   \n",
      "Accuracy: 0.5225225225225225\n",
      "Kappa:    0.0\n",
      "\n",
      "Fold 8\n",
      "Classes:  Float32[0.0, 1.0]\n",
      "Matrix:   \n",
      "Accuracy: 0.6036036036036037\n",
      "Kappa:    0.0\n",
      "\n",
      "Mean Accuracy: 0.6148648648648649"
     ]
    },
    {
     "data": {
      "text/plain": [
       "2×2 Array{Int64,2}:\n",
       " 76  0\n",
       " 35  0"
      ]
     },
     "metadata": {},
     "output_type": "display_data"
    },
    {
     "data": {
      "text/plain": [
       "2×2 Array{Int64,2}:\n",
       " 60  0\n",
       " 51  0"
      ]
     },
     "metadata": {},
     "output_type": "display_data"
    },
    {
     "name": "stdout",
     "output_type": "stream",
     "text": [
      "\n",
      "\n",
      "Fold 1\n",
      "Classes:  Float32[0.0, 1.0]\n",
      "Matrix:   \n",
      "Accuracy: 0.6846846846846847\n",
      "Kappa:    0.0\n",
      "\n",
      "Fold 2\n",
      "Classes:  Float32[0.0, 1.0]\n",
      "Matrix:   \n",
      "Accuracy: 0.5405405405405406\n",
      "Kappa:    0.0\n"
     ]
    },
    {
     "data": {
      "text/plain": [
       "2×2 Array{Int64,2}:\n",
       " 61  0\n",
       " 50  0"
      ]
     },
     "metadata": {},
     "output_type": "display_data"
    },
    {
     "data": {
      "text/plain": [
       "2×2 Array{Int64,2}:\n",
       " 69  0\n",
       " 42  0"
      ]
     },
     "metadata": {},
     "output_type": "display_data"
    },
    {
     "name": "stdout",
     "output_type": "stream",
     "text": [
      "\n",
      "Fold 3\n",
      "Classes:  Float32[0.0, 1.0]\n",
      "Matrix:   \n",
      "Accuracy: 0.5495495495495496\n",
      "Kappa:    0.0\n",
      "\n",
      "Fold 4\n",
      "Classes:  Float32[0.0, 1.0]\n",
      "Matrix:   \n",
      "Accuracy: 0.6216216216216216\n",
      "Kappa:    0.0\n",
      "\n",
      "Fold 5\n",
      "Classes:  "
     ]
    },
    {
     "data": {
      "text/plain": [
       "2×2 Array{Int64,2}:\n",
       " 68  0\n",
       " 43  0"
      ]
     },
     "metadata": {},
     "output_type": "display_data"
    },
    {
     "data": {
      "text/plain": [
       "2×2 Array{Int64,2}:\n",
       " 76  0\n",
       " 35  0"
      ]
     },
     "metadata": {},
     "output_type": "display_data"
    },
    {
     "name": "stdout",
     "output_type": "stream",
     "text": [
      "Float32[0.0, 1.0]\n",
      "Matrix:   \n",
      "Accuracy: 0.6126126126126126\n",
      "Kappa:    0.0\n",
      "\n",
      "Fold 6\n",
      "Classes:  Float32[0.0, 1.0]\n",
      "Matrix:   \n",
      "Accuracy: 0.6846846846846847\n",
      "Kappa:    0.0\n"
     ]
    },
    {
     "data": {
      "text/plain": [
       "2×2 Array{Int64,2}:\n",
       " 65  0\n",
       " 46  0"
      ]
     },
     "metadata": {},
     "output_type": "display_data"
    },
    {
     "data": {
      "text/plain": [
       "2×2 Array{Int64,2}:\n",
       " 72  0\n",
       " 39  0"
      ]
     },
     "metadata": {},
     "output_type": "display_data"
    },
    {
     "data": {
      "text/plain": [
       "2×2 Array{Int64,2}:\n",
       " 71   1\n",
       "  2  37"
      ]
     },
     "metadata": {},
     "output_type": "display_data"
    },
    {
     "name": "stdout",
     "output_type": "stream",
     "text": [
      "\n",
      "Fold 7\n",
      "Classes:  Float32[0.0, 1.0]\n",
      "Matrix:   \n",
      "Accuracy: 0.5855855855855856\n",
      "Kappa:    0.0\n",
      "\n",
      "Fold 8\n",
      "Classes:  Float32[0.0, 1.0]\n",
      "Matrix:   \n",
      "Accuracy: 0.6486486486486487\n",
      "Kappa:    0.0\n",
      "\n",
      "Mean Accuracy: 0.6159909909909911\n",
      "\n",
      "Fold 1\n",
      "Classes:  Float32[0.0, 1.0]\n",
      "Matrix:   \n",
      "Accuracy: 0.972972972972973\n",
      "Kappa:    0.940354648038689"
     ]
    },
    {
     "data": {
      "text/plain": [
       "2×2 Array{Int64,2}:\n",
       " 64   1\n",
       "  1  45"
      ]
     },
     "metadata": {},
     "output_type": "display_data"
    },
    {
     "data": {
      "text/plain": [
       "2×2 Array{Int64,2}:\n",
       " 73   4\n",
       "  1  33"
      ]
     },
     "metadata": {},
     "output_type": "display_data"
    },
    {
     "name": "stdout",
     "output_type": "stream",
     "text": [
      "\n",
      "\n",
      "Fold 2\n",
      "Classes:  Float32[0.0, 1.0]\n",
      "Matrix:   \n",
      "Accuracy: 0.9819819819819819\n",
      "Kappa:    0.962876254180602\n",
      "\n",
      "Fold 3\n",
      "Classes:  Float32[0.0, 1.0]\n",
      "Matrix:   \n",
      "Accuracy: 0.954954954954955\n",
      "Kappa:    0.896551724137931\n"
     ]
    },
    {
     "data": {
      "text/plain": [
       "2×2 Array{Int64,2}:\n",
       " 55   6\n",
       "  6  44"
      ]
     },
     "metadata": {},
     "output_type": "display_data"
    },
    {
     "data": {
      "text/plain": [
       "2×2 Array{Int64,2}:\n",
       " 66   6\n",
       "  3  36"
      ]
     },
     "metadata": {},
     "output_type": "display_data"
    },
    {
     "name": "stdout",
     "output_type": "stream",
     "text": [
      "\n",
      "Fold 4\n",
      "Classes:  Float32[0.0, 1.0]\n",
      "Matrix:   \n",
      "Accuracy: 0.8918918918918919\n",
      "Kappa:    0.7816393442622951\n",
      "\n",
      "Fold 5\n",
      "Classes:  Float32[0.0, 1.0]\n",
      "Matrix:   \n",
      "Accuracy: 0.918918918918919\n",
      "Kappa:    0.8251968503937009\n"
     ]
    },
    {
     "data": {
      "text/plain": [
       "2×2 Array{Int64,2}:\n",
       " 63   1\n",
       "  3  44"
      ]
     },
     "metadata": {},
     "output_type": "display_data"
    },
    {
     "data": {
      "text/plain": [
       "2×2 Array{Int64,2}:\n",
       " 64   2\n",
       "  5  40"
      ]
     },
     "metadata": {},
     "output_type": "display_data"
    },
    {
     "name": "stdout",
     "output_type": "stream",
     "text": [
      "\n",
      "Fold 6\n",
      "Classes:  Float32[0.0, 1.0]\n",
      "Matrix:   \n",
      "Accuracy: 0.963963963963964\n",
      "Kappa:    0.925777331995988\n",
      "\n",
      "Fold 7\n",
      "Classes:  Float32[0.0, 1.0]\n",
      "Matrix:   \n",
      "Accuracy: 0.9369369369369369\n",
      "Kappa:    0.8677896886166411\n"
     ]
    },
    {
     "data": {
      "text/plain": [
       "2×2 Array{Int64,2}:\n",
       " 68   4\n",
       "  6  33"
      ]
     },
     "metadata": {},
     "output_type": "display_data"
    },
    {
     "data": {
      "text/plain": [
       "2×2 Array{Int64,2}:\n",
       " 68   1\n",
       "  2  40"
      ]
     },
     "metadata": {},
     "output_type": "display_data"
    },
    {
     "data": {
      "text/plain": [
       "2×2 Array{Int64,2}:\n",
       " 70   1\n",
       "  1  39"
      ]
     },
     "metadata": {},
     "output_type": "display_data"
    },
    {
     "name": "stdout",
     "output_type": "stream",
     "text": [
      "\n",
      "Fold 8\n",
      "Classes:  Float32[0.0, 1.0]\n",
      "Matrix:   \n",
      "Accuracy: 0.9099099099099099\n",
      "Kappa:    0.8\n",
      "\n",
      "Mean Accuracy: 0.9414414414414416\n",
      "\n",
      "Fold 1\n",
      "Classes:  Float32[0.0, 1.0]\n",
      "Matrix:   \n",
      "Accuracy: 0.972972972972973\n",
      "Kappa:    0.9422776911076444\n",
      "\n",
      "Fold 2\n",
      "Classes:  Float32[0.0, 1.0]"
     ]
    },
    {
     "data": {
      "text/plain": [
       "2×2 Array{Int64,2}:\n",
       " 71   1\n",
       "  1  38"
      ]
     },
     "metadata": {},
     "output_type": "display_data"
    },
    {
     "name": "stdout",
     "output_type": "stream",
     "text": [
      "\n",
      "Matrix:   \n",
      "Accuracy: 0.9819819819819819\n",
      "Kappa:    0.9609154929577464\n",
      "\n",
      "Fold 3\n",
      "Classes:  Float32[0.0, 1.0]\n",
      "Matrix:   \n",
      "Accuracy: 0.9819819819819819\n",
      "Kappa:    0.9604700854700854\n"
     ]
    },
    {
     "data": {
      "text/plain": [
       "2×2 Array{Int64,2}:\n",
       " 69   2\n",
       "  6  34"
      ]
     },
     "metadata": {},
     "output_type": "display_data"
    },
    {
     "name": "stdout",
     "output_type": "stream",
     "text": [
      "\n",
      "Fold 4\n",
      "Classes:  Float32[0.0, 1.0]\n",
      "Matrix:   \n",
      "Accuracy: 0.9279279279279279\n",
      "Kappa:    0.8401727861771058\n",
      "\n",
      "Fold 5\n",
      "Classes:  Float32[0"
     ]
    },
    {
     "data": {
      "text/plain": [
       "2×2 Array{Int64,2}:\n",
       " 61   1\n",
       "  2  47"
      ]
     },
     "metadata": {},
     "output_type": "display_data"
    },
    {
     "data": {
      "text/plain": [
       "2×2 Array{Int64,2}:\n",
       " 74   1\n",
       "  5  31"
      ]
     },
     "metadata": {},
     "output_type": "display_data"
    },
    {
     "data": {
      "text/plain": [
       "2×2 Array{Int64,2}:\n",
       " 61   0\n",
       "  8  42"
      ]
     },
     "metadata": {},
     "output_type": "display_data"
    },
    {
     "name": "stdout",
     "output_type": "stream",
     "text": [
      ".0, 1.0]\n",
      "Matrix:   \n",
      "Accuracy: 0.972972972972973\n",
      "Kappa:    0.9450766947055914\n",
      "\n",
      "Fold 6\n",
      "Classes:  Float32[0.0, 1.0]\n",
      "Matrix:   \n",
      "Accuracy: 0.9459459459459459\n",
      "Kappa:    0.8729977116704806\n",
      "\n",
      "Fold 7\n",
      "Classes:  Float32[0.0, 1.0]\n",
      "Matrix:   \n",
      "Accuracy: 0.9279279279279279\n",
      "Kappa:    0.8522954091816366\n"
     ]
    },
    {
     "data": {
      "text/plain": [
       "2×2 Array{Int64,2}:\n",
       " 63   2\n",
       "  1  45"
      ]
     },
     "metadata": {},
     "output_type": "display_data"
    },
    {
     "data": {
      "text/plain": [
       "2×2 Array{Int64,2}:\n",
       " 65   1\n",
       "  2  43"
      ]
     },
     "metadata": {},
     "output_type": "display_data"
    },
    {
     "name": "stdout",
     "output_type": "stream",
     "text": [
      "\n",
      "Fold 8\n",
      "Classes:  Float32[0.0, 1.0]\n",
      "Matrix:   \n",
      "Accuracy: 0.972972972972973\n",
      "Kappa:    0.9444907484580765\n",
      "\n",
      "Mean Accuracy: 0.9605855855855855\n",
      "\n",
      "Fold 1\n",
      "Classes:  Float32[0.0, 1.0]\n",
      "Matrix:   \n",
      "Accuracy: 0.972972972972973\n",
      "Kappa:    0.9437404967055247"
     ]
    },
    {
     "data": {
      "text/plain": [
       "2×2 Array{Int64,2}:\n",
       " 68   1\n",
       "  1  41"
      ]
     },
     "metadata": {},
     "output_type": "display_data"
    },
    {
     "data": {
      "text/plain": [
       "2×2 Array{Int64,2}:\n",
       " 75   0\n",
       "  1  35"
      ]
     },
     "metadata": {},
     "output_type": "display_data"
    },
    {
     "data": {
      "text/plain": [
       "2×2 Array{Int64,2}:\n",
       " 67   0\n",
       "  3  41"
      ]
     },
     "metadata": {},
     "output_type": "display_data"
    },
    {
     "data": {
      "text/plain": [
       "2×2 Array{Int64,2}:\n",
       " 72   0\n",
       "  2  37"
      ]
     },
     "metadata": {},
     "output_type": "display_data"
    },
    {
     "name": "stdout",
     "output_type": "stream",
     "text": [
      "\n",
      "\n",
      "Fold 2\n",
      "Classes:  Float32[0.0, 1.0]\n",
      "Matrix:   \n",
      "Accuracy: 0.9819819819819819\n",
      "Kappa:    0.9616977225672877\n",
      "\n",
      "Fold 3\n",
      "Classes:  Float32[0.0, 1.0]\n",
      "Matrix:   \n",
      "Accuracy: 0.990990990990991\n",
      "Kappa:    0.9792949076664801\n",
      "\n",
      "Fold 4\n",
      "Classes:  Float32[0.0, 1.0]\n",
      "Matrix:   \n",
      "Accuracy: 0.972972972972973\n",
      "Kappa:    0.9428522395743951\n",
      "\n",
      "Fold 5\n",
      "Classes:  Float32[0.0, 1.0]\n",
      "Matrix:   \n",
      "Accuracy: 0.9819819819819819\n",
      "Kappa:    0.96\n",
      "\n",
      "Fold 6\n",
      "Classes:  Float32[0.0, 1.0]"
     ]
    },
    {
     "data": {
      "text/plain": [
       "2×2 Array{Int64,2}:\n",
       " 63   0\n",
       "  0  48"
      ]
     },
     "metadata": {},
     "output_type": "display_data"
    },
    {
     "data": {
      "text/plain": [
       "2×2 Array{Int64,2}:\n",
       " 67   0\n",
       "  3  41"
      ]
     },
     "metadata": {},
     "output_type": "display_data"
    },
    {
     "data": {
      "text/plain": [
       "2×2 Array{Int64,2}:\n",
       " 69   0\n",
       "  4  38"
      ]
     },
     "metadata": {},
     "output_type": "display_data"
    },
    {
     "name": "stdout",
     "output_type": "stream",
     "text": [
      "\n",
      "Matrix:   \n",
      "Accuracy: 1.0\n",
      "Kappa:    1.0\n",
      "\n",
      "Fold 7\n",
      "Classes:  Float32[0.0, 1.0]\n",
      "Matrix:   \n",
      "Accuracy: 0.972972972972973\n",
      "Kappa:    0.9428522395743951\n",
      "\n",
      "Fold 8\n",
      "Classes:  Float32[0.0, 1.0]\n",
      "Matrix:   \n",
      "Accuracy: 0.963963963963964\n",
      "Kappa:    0.9219409282700423\n",
      "\n",
      "Mean Accuracy: 0.9797297297297298\n"
     ]
    },
    {
     "data": {
      "text/plain": [
       "2×2 Array{Int64,2}:\n",
       " 74   0\n",
       "  1  36"
      ]
     },
     "metadata": {},
     "output_type": "display_data"
    },
    {
     "data": {
      "text/plain": [
       "2×2 Array{Int64,2}:\n",
       " 73   0\n",
       "  0  38"
      ]
     },
     "metadata": {},
     "output_type": "display_data"
    },
    {
     "name": "stdout",
     "output_type": "stream",
     "text": [
      "\n",
      "Fold 1\n",
      "Classes:  Float32[0.0, 1.0]\n",
      "Matrix:   \n",
      "Accuracy: 0.990990990990991\n",
      "Kappa:    0.9795918367346939\n",
      "\n",
      "Fold 2\n",
      "Classes:  Float32[0.0, 1.0]\n",
      "Matrix:   \n",
      "Accuracy: 1.0\n",
      "Kappa:    1.0"
     ]
    },
    {
     "data": {
      "text/plain": [
       "2×2 Array{Int64,2}:\n",
       " 69   0\n",
       "  2  40"
      ]
     },
     "metadata": {},
     "output_type": "display_data"
    },
    {
     "data": {
      "text/plain": [
       "2×2 Array{Int64,2}:\n",
       " 66   0\n",
       "  1  44"
      ]
     },
     "metadata": {},
     "output_type": "display_data"
    },
    {
     "name": "stdout",
     "output_type": "stream",
     "text": [
      "\n",
      "\n",
      "Fold 3\n",
      "Classes:  Float32[0.0, 1.0]\n",
      "Matrix:   \n",
      "Accuracy: 0.9819819819819819\n",
      "Kappa:    0.9613375130616509\n",
      "\n",
      "Fold 4\n",
      "Classes:  Float32[0.0, 1.0]\n",
      "Matrix:   \n",
      "Accuracy: 0.990990990990991\n",
      "Kappa:    0.9812468322351748\n"
     ]
    },
    {
     "data": {
      "text/plain": [
       "2×2 Array{Int64,2}:\n",
       " 69   0\n",
       "  3  39"
      ]
     },
     "metadata": {},
     "output_type": "display_data"
    },
    {
     "data": {
      "text/plain": [
       "2×2 Array{Int64,2}:\n",
       " 69   1\n",
       "  2  39"
      ]
     },
     "metadata": {},
     "output_type": "display_data"
    },
    {
     "data": {
      "text/plain": [
       "2×2 Array{Int64,2}:\n",
       " 60   0\n",
       "  3  48"
      ]
     },
     "metadata": {},
     "output_type": "display_data"
    },
    {
     "name": "stdout",
     "output_type": "stream",
     "text": [
      "\n",
      "Fold 5\n",
      "Classes:  Float32[0.0, 1.0]\n",
      "Matrix:   \n",
      "Accuracy: 0.972972972972973\n",
      "Kappa:    0.941732283464567\n",
      "\n",
      "Fold 6\n",
      "Classes:  Float32[0.0, 1.0]\n",
      "Matrix:   \n",
      "Accuracy: 0.972972972972973\n",
      "Kappa:    0.9416914725967432\n",
      "\n",
      "Fold 7\n",
      "Classes:  Float32[0.0, 1.0]\n",
      "Matrix:   \n",
      "Accuracy: 0.972972972972973\n",
      "Kappa:    0.9453471196454949\n",
      "\n",
      "Fold 8\n",
      "Classes:  "
     ]
    },
    {
     "data": {
      "text/plain": [
       "2×2 Array{Int64,2}:\n",
       " 66   1\n",
       "  2  42"
      ]
     },
     "metadata": {},
     "output_type": "display_data"
    },
    {
     "name": "stdout",
     "output_type": "stream",
     "text": [
      "Float32[0.0, 1.0]\n",
      "Matrix:   \n",
      "Accuracy: 0.972972972972973\n",
      "Kappa:    0.9432998467563427\n",
      "\n",
      "Mean Accuracy: 0.9819819819819819\n"
     ]
    },
    {
     "ename": "UndefVarError",
     "evalue": "UndefVarError: Guide not defined",
     "output_type": "error",
     "traceback": [
      "UndefVarError: Guide not defined",
      "",
      "Stacktrace:",
      " [1] top-level scope at In[27]:8"
     ]
    }
   ],
   "source": [
    "# run n-fold cross validation for pruned tree,\n",
    "\n",
    "accuracies = zeros(length(purities))\n",
    "\n",
    "for i in 1:length(purities)\n",
    "    accuracies[i] = mean(nfoldCV_tree(labels, features, 8 ,purities[i]))\n",
    "end\n",
    "\n",
    "plot(x=purities, y=accuracies, Geom.point, Geom.line, Guide.xlabel(\"Threshold\"), Guide.ylabel(\"Accuracy\"), Guide.title(\"Pruning Comparison\"))\n"
   ]
  },
  {
   "cell_type": "code",
   "execution_count": 47,
   "metadata": {},
   "outputs": [
    {
     "ename": "ArgumentError",
     "evalue": "ArgumentError: 'Array{Float32,1}' iterates 'Float32' values, which don't satisfy the Tables.jl Row-iterator interface",
     "output_type": "error",
     "traceback": [
      "ArgumentError: 'Array{Float32,1}' iterates 'Float32' values, which don't satisfy the Tables.jl Row-iterator interface",
      "",
      "Stacktrace:",
      " [1] invalidtable(::Array{Float32,1}, ::Float32) at C:\\Users\\Shobha\\.julia\\packages\\Tables\\qIlOP\\src\\iteratorwrapper.jl:35",
      " [2] iterate at C:\\Users\\Shobha\\.julia\\packages\\Tables\\qIlOP\\src\\iteratorwrapper.jl:41 [inlined]",
      " [3] buildcolumns(::Nothing, ::Tables.IteratorWrapper{Array{Float32,1}}) at C:\\Users\\Shobha\\.julia\\packages\\Tables\\qIlOP\\src\\fallbacks.jl:123",
      " [4] DataFrame(::Array{Float32,1}) at C:\\Users\\Shobha\\.julia\\packages\\Tables\\qIlOP\\src\\fallbacks.jl:154",
      " [5] top-level scope at In[47]:2"
     ]
    }
   ],
   "source": [
    "pred = apply_tree(model, test_features)\n",
    "\n"
   ]
  },
  {
   "cell_type": "code",
   "execution_count": 33,
   "metadata": {},
   "outputs": [
    {
     "name": "stdout",
     "output_type": "stream",
     "text": [
      "\u001b[32m\u001b[1m Resolving\u001b[22m\u001b[39m package versions...\n",
      "\u001b[32m\u001b[1m  Updating\u001b[22m\u001b[39m `C:\\Users\\Shobha\\.julia\\environments\\v1.0\\Project.toml`\n",
      " \u001b[90m [bd369af6]\u001b[39m\u001b[92m + Tables v0.1.17\u001b[39m\n",
      "\u001b[32m\u001b[1m  Updating\u001b[22m\u001b[39m `C:\\Users\\Shobha\\.julia\\environments\\v1.0\\Manifest.toml`\n",
      "\u001b[90m [no changes]\u001b[39m\n"
     ]
    },
    {
     "data": {
      "text/plain": [
       "true"
      ]
     },
     "execution_count": 33,
     "metadata": {},
     "output_type": "execute_result"
    }
   ],
   "source": [
    "Pkg.add(\"Tables\")\n",
    "using Tables\n",
    "Tables.istable(pred)"
   ]
  }
 ],
 "metadata": {
  "kernelspec": {
   "display_name": "Julia 1.0.3",
   "language": "julia",
   "name": "julia-1.0"
  },
  "language_info": {
   "file_extension": ".jl",
   "mimetype": "application/julia",
   "name": "julia",
   "version": "1.0.3"
  }
 },
 "nbformat": 4,
 "nbformat_minor": 2
}
